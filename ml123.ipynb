{
 "cells": [
  {
   "cell_type": "code",
   "execution_count": 111,
   "metadata": {},
   "outputs": [],
   "source": [
    "import pandas as pd\n",
    "import numpy as np\n",
    "from sklearn.model_selection import train_test_split, GridSearchCV\n",
    "from sklearn.ensemble import RandomForestClassifier, GradientBoostingClassifier\n",
    "from sklearn.metrics import classification_report, accuracy_score\n",
    "from sklearn.preprocessing import StandardScaler, OneHotEncoder\n",
    "from sklearn.compose import ColumnTransformer\n",
    "from sklearn.pipeline import Pipeline\n",
    "from imblearn.over_sampling import SMOTE\n"
   ]
  },
  {
   "cell_type": "code",
   "execution_count": 112,
   "metadata": {},
   "outputs": [],
   "source": [
    "train_data = pd.read_csv('train.csv')\n",
    "test_data = pd.read_csv('test.csv')\n",
    "\n"
   ]
  },
  {
   "cell_type": "code",
   "execution_count": 113,
   "metadata": {},
   "outputs": [
    {
     "name": "stderr",
     "output_type": "stream",
     "text": [
      "C:\\Users\\Dambe\\AppData\\Local\\Temp\\ipykernel_9524\\3295163659.py:1: FutureWarning: A value is trying to be set on a copy of a DataFrame or Series through chained assignment using an inplace method.\n",
      "The behavior will change in pandas 3.0. This inplace method will never work because the intermediate object on which we are setting values always behaves as a copy.\n",
      "\n",
      "For example, when doing 'df[col].method(value, inplace=True)', try using 'df.method({col: value}, inplace=True)' or df[col] = df[col].method(value) instead, to perform the operation inplace on the original object.\n",
      "\n",
      "\n",
      "  train_data['HomePlanet'].fillna('Unknown', inplace=True)\n",
      "C:\\Users\\Dambe\\AppData\\Local\\Temp\\ipykernel_9524\\3295163659.py:2: FutureWarning: A value is trying to be set on a copy of a DataFrame or Series through chained assignment using an inplace method.\n",
      "The behavior will change in pandas 3.0. This inplace method will never work because the intermediate object on which we are setting values always behaves as a copy.\n",
      "\n",
      "For example, when doing 'df[col].method(value, inplace=True)', try using 'df.method({col: value}, inplace=True)' or df[col] = df[col].method(value) instead, to perform the operation inplace on the original object.\n",
      "\n",
      "\n",
      "  train_data['CryoSleep'].fillna(False, inplace=True)\n",
      "C:\\Users\\Dambe\\AppData\\Local\\Temp\\ipykernel_9524\\3295163659.py:2: FutureWarning: Downcasting object dtype arrays on .fillna, .ffill, .bfill is deprecated and will change in a future version. Call result.infer_objects(copy=False) instead. To opt-in to the future behavior, set `pd.set_option('future.no_silent_downcasting', True)`\n",
      "  train_data['CryoSleep'].fillna(False, inplace=True)\n",
      "C:\\Users\\Dambe\\AppData\\Local\\Temp\\ipykernel_9524\\3295163659.py:3: FutureWarning: A value is trying to be set on a copy of a DataFrame or Series through chained assignment using an inplace method.\n",
      "The behavior will change in pandas 3.0. This inplace method will never work because the intermediate object on which we are setting values always behaves as a copy.\n",
      "\n",
      "For example, when doing 'df[col].method(value, inplace=True)', try using 'df.method({col: value}, inplace=True)' or df[col] = df[col].method(value) instead, to perform the operation inplace on the original object.\n",
      "\n",
      "\n",
      "  train_data['Destination'].fillna('Unknown', inplace=True)\n",
      "C:\\Users\\Dambe\\AppData\\Local\\Temp\\ipykernel_9524\\3295163659.py:4: FutureWarning: A value is trying to be set on a copy of a DataFrame or Series through chained assignment using an inplace method.\n",
      "The behavior will change in pandas 3.0. This inplace method will never work because the intermediate object on which we are setting values always behaves as a copy.\n",
      "\n",
      "For example, when doing 'df[col].method(value, inplace=True)', try using 'df.method({col: value}, inplace=True)' or df[col] = df[col].method(value) instead, to perform the operation inplace on the original object.\n",
      "\n",
      "\n",
      "  train_data['Age'].fillna(train_data['Age'].median(), inplace=True)\n",
      "C:\\Users\\Dambe\\AppData\\Local\\Temp\\ipykernel_9524\\3295163659.py:5: FutureWarning: A value is trying to be set on a copy of a DataFrame or Series through chained assignment using an inplace method.\n",
      "The behavior will change in pandas 3.0. This inplace method will never work because the intermediate object on which we are setting values always behaves as a copy.\n",
      "\n",
      "For example, when doing 'df[col].method(value, inplace=True)', try using 'df.method({col: value}, inplace=True)' or df[col] = df[col].method(value) instead, to perform the operation inplace on the original object.\n",
      "\n",
      "\n",
      "  train_data['VIP'].fillna(False, inplace=True)\n",
      "C:\\Users\\Dambe\\AppData\\Local\\Temp\\ipykernel_9524\\3295163659.py:5: FutureWarning: Downcasting object dtype arrays on .fillna, .ffill, .bfill is deprecated and will change in a future version. Call result.infer_objects(copy=False) instead. To opt-in to the future behavior, set `pd.set_option('future.no_silent_downcasting', True)`\n",
      "  train_data['VIP'].fillna(False, inplace=True)\n"
     ]
    }
   ],
   "source": [
    "train_data['HomePlanet'].fillna('Unknown', inplace=True)\n",
    "train_data['CryoSleep'].fillna(False, inplace=True)\n",
    "train_data['Destination'].fillna('Unknown', inplace=True)\n",
    "train_data['Age'].fillna(train_data['Age'].median(), inplace=True)\n",
    "train_data['VIP'].fillna(False, inplace=True)"
   ]
  },
  {
   "cell_type": "code",
   "execution_count": 114,
   "metadata": {},
   "outputs": [],
   "source": [
    "X = train_data.drop(columns=['PassengerId', 'Name', 'Cabin', 'Transported'])\n",
    "y = train_data['Transported']"
   ]
  },
  {
   "cell_type": "code",
   "execution_count": 115,
   "metadata": {},
   "outputs": [],
   "source": [
    "if y.nunique() != 2:\n",
    "    raise ValueError(\"Target variable 'y' must be binary.\")"
   ]
  },
  {
   "cell_type": "code",
   "execution_count": 116,
   "metadata": {},
   "outputs": [],
   "source": [
    "categorical_cols = X.select_dtypes(include=['object']).columns.tolist()\n",
    "numerical_cols = X.select_dtypes(exclude=['object']).columns.tolist()"
   ]
  },
  {
   "cell_type": "code",
   "execution_count": 117,
   "metadata": {},
   "outputs": [],
   "source": [
    "preprocessor = ColumnTransformer(\n",
    "    transformers=[\n",
    "        ('num', StandardScaler(), numerical_cols),\n",
    "        ('cat', OneHotEncoder(drop='first'), categorical_cols)\n",
    "    ])"
   ]
  },
  {
   "cell_type": "code",
   "execution_count": 118,
   "metadata": {},
   "outputs": [],
   "source": [
    "pipeline = Pipeline(steps=[\n",
    "    ('preprocessor', preprocessor),\n",
    "    ('smote', SMOTE(random_state=42)),\n",
    "    ('classifier', GradientBoostingClassifier(random_state=42))\n",
    "])"
   ]
  },
  {
   "cell_type": "code",
   "execution_count": 119,
   "metadata": {},
   "outputs": [],
   "source": [
    "X_train, X_val, y_train, y_val = train_test_split(X, y, test_size=0.2, random_state=42)"
   ]
  },
  {
   "cell_type": "code",
   "execution_count": 120,
   "metadata": {},
   "outputs": [
    {
     "name": "stdout",
     "output_type": "stream",
     "text": [
      "X_train shape: (6954, 10)\n",
      "y_train shape: (6954,)\n"
     ]
    }
   ],
   "source": [
    "print(\"X_train shape:\", X_train.shape)\n",
    "print(\"y_train shape:\", y_train.shape)"
   ]
  },
  {
   "cell_type": "code",
   "execution_count": 121,
   "metadata": {},
   "outputs": [
    {
     "name": "stdout",
     "output_type": "stream",
     "text": [
      "Fitting 3 folds for each of 72 candidates, totalling 216 fits\n",
      "[CV] END classifier__learning_rate=0.01, classifier__max_depth=3, classifier__min_samples_leaf=1, classifier__min_samples_split=2, classifier__n_estimators=100; total time=   0.0s\n",
      "[CV] END classifier__learning_rate=0.01, classifier__max_depth=3, classifier__min_samples_leaf=1, classifier__min_samples_split=2, classifier__n_estimators=100; total time=   0.0s\n",
      "[CV] END classifier__learning_rate=0.01, classifier__max_depth=3, classifier__min_samples_leaf=1, classifier__min_samples_split=2, classifier__n_estimators=100; total time=   0.0s\n",
      "[CV] END classifier__learning_rate=0.01, classifier__max_depth=3, classifier__min_samples_leaf=1, classifier__min_samples_split=2, classifier__n_estimators=200; total time=   0.0s\n",
      "[CV] END classifier__learning_rate=0.01, classifier__max_depth=3, classifier__min_samples_leaf=1, classifier__min_samples_split=2, classifier__n_estimators=200; total time=   0.0s\n",
      "[CV] END classifier__learning_rate=0.01, classifier__max_depth=3, classifier__min_samples_leaf=1, classifier__min_samples_split=2, classifier__n_estimators=200; total time=   0.0s\n",
      "[CV] END classifier__learning_rate=0.01, classifier__max_depth=3, classifier__min_samples_leaf=1, classifier__min_samples_split=5, classifier__n_estimators=100; total time=   0.0s\n",
      "[CV] END classifier__learning_rate=0.01, classifier__max_depth=3, classifier__min_samples_leaf=1, classifier__min_samples_split=5, classifier__n_estimators=100; total time=   0.0s\n",
      "[CV] END classifier__learning_rate=0.01, classifier__max_depth=3, classifier__min_samples_leaf=1, classifier__min_samples_split=5, classifier__n_estimators=100; total time=   0.0s\n",
      "[CV] END classifier__learning_rate=0.01, classifier__max_depth=3, classifier__min_samples_leaf=1, classifier__min_samples_split=5, classifier__n_estimators=200; total time=   0.0s\n",
      "[CV] END classifier__learning_rate=0.01, classifier__max_depth=3, classifier__min_samples_leaf=1, classifier__min_samples_split=5, classifier__n_estimators=200; total time=   0.0s\n",
      "[CV] END classifier__learning_rate=0.01, classifier__max_depth=3, classifier__min_samples_leaf=1, classifier__min_samples_split=5, classifier__n_estimators=200; total time=   0.0s\n",
      "[CV] END classifier__learning_rate=0.01, classifier__max_depth=3, classifier__min_samples_leaf=2, classifier__min_samples_split=2, classifier__n_estimators=100; total time=   0.0s\n",
      "[CV] END classifier__learning_rate=0.01, classifier__max_depth=3, classifier__min_samples_leaf=2, classifier__min_samples_split=2, classifier__n_estimators=100; total time=   0.0s\n",
      "[CV] END classifier__learning_rate=0.01, classifier__max_depth=3, classifier__min_samples_leaf=2, classifier__min_samples_split=2, classifier__n_estimators=100; total time=   0.0s\n",
      "[CV] END classifier__learning_rate=0.01, classifier__max_depth=3, classifier__min_samples_leaf=2, classifier__min_samples_split=2, classifier__n_estimators=200; total time=   0.0s\n",
      "[CV] END classifier__learning_rate=0.01, classifier__max_depth=3, classifier__min_samples_leaf=2, classifier__min_samples_split=2, classifier__n_estimators=200; total time=   0.0s\n",
      "[CV] END classifier__learning_rate=0.01, classifier__max_depth=3, classifier__min_samples_leaf=2, classifier__min_samples_split=2, classifier__n_estimators=200; total time=   0.0s\n",
      "[CV] END classifier__learning_rate=0.01, classifier__max_depth=3, classifier__min_samples_leaf=2, classifier__min_samples_split=5, classifier__n_estimators=100; total time=   0.0s\n",
      "[CV] END classifier__learning_rate=0.01, classifier__max_depth=3, classifier__min_samples_leaf=2, classifier__min_samples_split=5, classifier__n_estimators=100; total time=   0.0s\n",
      "[CV] END classifier__learning_rate=0.01, classifier__max_depth=3, classifier__min_samples_leaf=2, classifier__min_samples_split=5, classifier__n_estimators=100; total time=   0.0s\n",
      "[CV] END classifier__learning_rate=0.01, classifier__max_depth=3, classifier__min_samples_leaf=2, classifier__min_samples_split=5, classifier__n_estimators=200; total time=   0.0s\n",
      "[CV] END classifier__learning_rate=0.01, classifier__max_depth=3, classifier__min_samples_leaf=2, classifier__min_samples_split=5, classifier__n_estimators=200; total time=   0.0s\n",
      "[CV] END classifier__learning_rate=0.01, classifier__max_depth=3, classifier__min_samples_leaf=2, classifier__min_samples_split=5, classifier__n_estimators=200; total time=   0.0s\n",
      "[CV] END classifier__learning_rate=0.01, classifier__max_depth=5, classifier__min_samples_leaf=1, classifier__min_samples_split=2, classifier__n_estimators=100; total time=   0.0s\n",
      "[CV] END classifier__learning_rate=0.01, classifier__max_depth=5, classifier__min_samples_leaf=1, classifier__min_samples_split=2, classifier__n_estimators=100; total time=   0.0s\n",
      "[CV] END classifier__learning_rate=0.01, classifier__max_depth=5, classifier__min_samples_leaf=1, classifier__min_samples_split=2, classifier__n_estimators=100; total time=   0.0s\n",
      "[CV] END classifier__learning_rate=0.01, classifier__max_depth=5, classifier__min_samples_leaf=1, classifier__min_samples_split=2, classifier__n_estimators=200; total time=   0.0s\n",
      "[CV] END classifier__learning_rate=0.01, classifier__max_depth=5, classifier__min_samples_leaf=1, classifier__min_samples_split=2, classifier__n_estimators=200; total time=   0.0s\n",
      "[CV] END classifier__learning_rate=0.01, classifier__max_depth=5, classifier__min_samples_leaf=1, classifier__min_samples_split=2, classifier__n_estimators=200; total time=   0.0s\n",
      "[CV] END classifier__learning_rate=0.01, classifier__max_depth=5, classifier__min_samples_leaf=1, classifier__min_samples_split=5, classifier__n_estimators=100; total time=   0.0s\n",
      "[CV] END classifier__learning_rate=0.01, classifier__max_depth=5, classifier__min_samples_leaf=1, classifier__min_samples_split=5, classifier__n_estimators=100; total time=   0.0s\n",
      "[CV] END classifier__learning_rate=0.01, classifier__max_depth=5, classifier__min_samples_leaf=1, classifier__min_samples_split=5, classifier__n_estimators=100; total time=   0.0s\n",
      "[CV] END classifier__learning_rate=0.01, classifier__max_depth=5, classifier__min_samples_leaf=1, classifier__min_samples_split=5, classifier__n_estimators=200; total time=   0.0s\n",
      "[CV] END classifier__learning_rate=0.01, classifier__max_depth=5, classifier__min_samples_leaf=1, classifier__min_samples_split=5, classifier__n_estimators=200; total time=   0.0s\n",
      "[CV] END classifier__learning_rate=0.01, classifier__max_depth=5, classifier__min_samples_leaf=1, classifier__min_samples_split=5, classifier__n_estimators=200; total time=   0.0s\n",
      "[CV] END classifier__learning_rate=0.01, classifier__max_depth=5, classifier__min_samples_leaf=2, classifier__min_samples_split=2, classifier__n_estimators=100; total time=   0.0s\n",
      "[CV] END classifier__learning_rate=0.01, classifier__max_depth=5, classifier__min_samples_leaf=2, classifier__min_samples_split=2, classifier__n_estimators=100; total time=   0.0s\n",
      "[CV] END classifier__learning_rate=0.01, classifier__max_depth=5, classifier__min_samples_leaf=2, classifier__min_samples_split=2, classifier__n_estimators=100; total time=   0.0s\n",
      "[CV] END classifier__learning_rate=0.01, classifier__max_depth=5, classifier__min_samples_leaf=2, classifier__min_samples_split=2, classifier__n_estimators=200; total time=   0.0s\n",
      "[CV] END classifier__learning_rate=0.01, classifier__max_depth=5, classifier__min_samples_leaf=2, classifier__min_samples_split=2, classifier__n_estimators=200; total time=   0.0s\n",
      "[CV] END classifier__learning_rate=0.01, classifier__max_depth=5, classifier__min_samples_leaf=2, classifier__min_samples_split=2, classifier__n_estimators=200; total time=   0.0s\n",
      "[CV] END classifier__learning_rate=0.01, classifier__max_depth=5, classifier__min_samples_leaf=2, classifier__min_samples_split=5, classifier__n_estimators=100; total time=   0.0s\n",
      "[CV] END classifier__learning_rate=0.01, classifier__max_depth=5, classifier__min_samples_leaf=2, classifier__min_samples_split=5, classifier__n_estimators=100; total time=   0.0s\n",
      "[CV] END classifier__learning_rate=0.01, classifier__max_depth=5, classifier__min_samples_leaf=2, classifier__min_samples_split=5, classifier__n_estimators=100; total time=   0.0s\n",
      "[CV] END classifier__learning_rate=0.01, classifier__max_depth=5, classifier__min_samples_leaf=2, classifier__min_samples_split=5, classifier__n_estimators=200; total time=   0.0s\n",
      "[CV] END classifier__learning_rate=0.01, classifier__max_depth=5, classifier__min_samples_leaf=2, classifier__min_samples_split=5, classifier__n_estimators=200; total time=   0.0s\n",
      "[CV] END classifier__learning_rate=0.01, classifier__max_depth=5, classifier__min_samples_leaf=2, classifier__min_samples_split=5, classifier__n_estimators=200; total time=   0.0s\n",
      "[CV] END classifier__learning_rate=0.01, classifier__max_depth=7, classifier__min_samples_leaf=1, classifier__min_samples_split=2, classifier__n_estimators=100; total time=   0.0s\n",
      "[CV] END classifier__learning_rate=0.01, classifier__max_depth=7, classifier__min_samples_leaf=1, classifier__min_samples_split=2, classifier__n_estimators=100; total time=   0.0s\n",
      "[CV] END classifier__learning_rate=0.01, classifier__max_depth=7, classifier__min_samples_leaf=1, classifier__min_samples_split=2, classifier__n_estimators=100; total time=   0.0s\n",
      "[CV] END classifier__learning_rate=0.01, classifier__max_depth=7, classifier__min_samples_leaf=1, classifier__min_samples_split=2, classifier__n_estimators=200; total time=   0.0s\n",
      "[CV] END classifier__learning_rate=0.01, classifier__max_depth=7, classifier__min_samples_leaf=1, classifier__min_samples_split=2, classifier__n_estimators=200; total time=   0.0s\n",
      "[CV] END classifier__learning_rate=0.01, classifier__max_depth=7, classifier__min_samples_leaf=1, classifier__min_samples_split=2, classifier__n_estimators=200; total time=   0.0s\n",
      "[CV] END classifier__learning_rate=0.01, classifier__max_depth=7, classifier__min_samples_leaf=1, classifier__min_samples_split=5, classifier__n_estimators=100; total time=   0.0s\n",
      "[CV] END classifier__learning_rate=0.01, classifier__max_depth=7, classifier__min_samples_leaf=1, classifier__min_samples_split=5, classifier__n_estimators=100; total time=   0.0s\n",
      "[CV] END classifier__learning_rate=0.01, classifier__max_depth=7, classifier__min_samples_leaf=1, classifier__min_samples_split=5, classifier__n_estimators=100; total time=   0.0s\n",
      "[CV] END classifier__learning_rate=0.01, classifier__max_depth=7, classifier__min_samples_leaf=1, classifier__min_samples_split=5, classifier__n_estimators=200; total time=   0.0s\n",
      "[CV] END classifier__learning_rate=0.01, classifier__max_depth=7, classifier__min_samples_leaf=1, classifier__min_samples_split=5, classifier__n_estimators=200; total time=   0.0s\n",
      "[CV] END classifier__learning_rate=0.01, classifier__max_depth=7, classifier__min_samples_leaf=1, classifier__min_samples_split=5, classifier__n_estimators=200; total time=   0.0s\n",
      "[CV] END classifier__learning_rate=0.01, classifier__max_depth=7, classifier__min_samples_leaf=2, classifier__min_samples_split=2, classifier__n_estimators=100; total time=   0.0s\n",
      "[CV] END classifier__learning_rate=0.01, classifier__max_depth=7, classifier__min_samples_leaf=2, classifier__min_samples_split=2, classifier__n_estimators=100; total time=   0.0s\n",
      "[CV] END classifier__learning_rate=0.01, classifier__max_depth=7, classifier__min_samples_leaf=2, classifier__min_samples_split=2, classifier__n_estimators=100; total time=   0.0s\n",
      "[CV] END classifier__learning_rate=0.01, classifier__max_depth=7, classifier__min_samples_leaf=2, classifier__min_samples_split=2, classifier__n_estimators=200; total time=   0.0s\n",
      "[CV] END classifier__learning_rate=0.01, classifier__max_depth=7, classifier__min_samples_leaf=2, classifier__min_samples_split=2, classifier__n_estimators=200; total time=   0.0s\n",
      "[CV] END classifier__learning_rate=0.01, classifier__max_depth=7, classifier__min_samples_leaf=2, classifier__min_samples_split=2, classifier__n_estimators=200; total time=   0.0s\n",
      "[CV] END classifier__learning_rate=0.01, classifier__max_depth=7, classifier__min_samples_leaf=2, classifier__min_samples_split=5, classifier__n_estimators=100; total time=   0.0s\n",
      "[CV] END classifier__learning_rate=0.01, classifier__max_depth=7, classifier__min_samples_leaf=2, classifier__min_samples_split=5, classifier__n_estimators=100; total time=   0.0s\n",
      "[CV] END classifier__learning_rate=0.01, classifier__max_depth=7, classifier__min_samples_leaf=2, classifier__min_samples_split=5, classifier__n_estimators=100; total time=   0.0s\n",
      "[CV] END classifier__learning_rate=0.01, classifier__max_depth=7, classifier__min_samples_leaf=2, classifier__min_samples_split=5, classifier__n_estimators=200; total time=   0.0s\n",
      "[CV] END classifier__learning_rate=0.01, classifier__max_depth=7, classifier__min_samples_leaf=2, classifier__min_samples_split=5, classifier__n_estimators=200; total time=   0.0s\n",
      "[CV] END classifier__learning_rate=0.01, classifier__max_depth=7, classifier__min_samples_leaf=2, classifier__min_samples_split=5, classifier__n_estimators=200; total time=   0.0s\n",
      "[CV] END classifier__learning_rate=0.1, classifier__max_depth=3, classifier__min_samples_leaf=1, classifier__min_samples_split=2, classifier__n_estimators=100; total time=   0.0s\n",
      "[CV] END classifier__learning_rate=0.1, classifier__max_depth=3, classifier__min_samples_leaf=1, classifier__min_samples_split=2, classifier__n_estimators=100; total time=   0.0s\n",
      "[CV] END classifier__learning_rate=0.1, classifier__max_depth=3, classifier__min_samples_leaf=1, classifier__min_samples_split=2, classifier__n_estimators=100; total time=   0.0s\n",
      "[CV] END classifier__learning_rate=0.1, classifier__max_depth=3, classifier__min_samples_leaf=1, classifier__min_samples_split=2, classifier__n_estimators=200; total time=   0.0s\n",
      "[CV] END classifier__learning_rate=0.1, classifier__max_depth=3, classifier__min_samples_leaf=1, classifier__min_samples_split=2, classifier__n_estimators=200; total time=   0.0s\n",
      "[CV] END classifier__learning_rate=0.1, classifier__max_depth=3, classifier__min_samples_leaf=1, classifier__min_samples_split=2, classifier__n_estimators=200; total time=   0.0s\n",
      "[CV] END classifier__learning_rate=0.1, classifier__max_depth=3, classifier__min_samples_leaf=1, classifier__min_samples_split=5, classifier__n_estimators=100; total time=   0.0s\n",
      "[CV] END classifier__learning_rate=0.1, classifier__max_depth=3, classifier__min_samples_leaf=1, classifier__min_samples_split=5, classifier__n_estimators=100; total time=   0.0s\n",
      "[CV] END classifier__learning_rate=0.1, classifier__max_depth=3, classifier__min_samples_leaf=1, classifier__min_samples_split=5, classifier__n_estimators=100; total time=   0.0s\n",
      "[CV] END classifier__learning_rate=0.1, classifier__max_depth=3, classifier__min_samples_leaf=1, classifier__min_samples_split=5, classifier__n_estimators=200; total time=   0.0s\n",
      "[CV] END classifier__learning_rate=0.1, classifier__max_depth=3, classifier__min_samples_leaf=1, classifier__min_samples_split=5, classifier__n_estimators=200; total time=   0.0s\n",
      "[CV] END classifier__learning_rate=0.1, classifier__max_depth=3, classifier__min_samples_leaf=1, classifier__min_samples_split=5, classifier__n_estimators=200; total time=   0.0s\n",
      "[CV] END classifier__learning_rate=0.1, classifier__max_depth=3, classifier__min_samples_leaf=2, classifier__min_samples_split=2, classifier__n_estimators=100; total time=   0.0s\n",
      "[CV] END classifier__learning_rate=0.1, classifier__max_depth=3, classifier__min_samples_leaf=2, classifier__min_samples_split=2, classifier__n_estimators=100; total time=   0.0s\n",
      "[CV] END classifier__learning_rate=0.1, classifier__max_depth=3, classifier__min_samples_leaf=2, classifier__min_samples_split=2, classifier__n_estimators=100; total time=   0.0s\n",
      "[CV] END classifier__learning_rate=0.1, classifier__max_depth=3, classifier__min_samples_leaf=2, classifier__min_samples_split=2, classifier__n_estimators=200; total time=   0.0s\n",
      "[CV] END classifier__learning_rate=0.1, classifier__max_depth=3, classifier__min_samples_leaf=2, classifier__min_samples_split=2, classifier__n_estimators=200; total time=   0.0s\n",
      "[CV] END classifier__learning_rate=0.1, classifier__max_depth=3, classifier__min_samples_leaf=2, classifier__min_samples_split=2, classifier__n_estimators=200; total time=   0.0s\n",
      "[CV] END classifier__learning_rate=0.1, classifier__max_depth=3, classifier__min_samples_leaf=2, classifier__min_samples_split=5, classifier__n_estimators=100; total time=   0.0s\n",
      "[CV] END classifier__learning_rate=0.1, classifier__max_depth=3, classifier__min_samples_leaf=2, classifier__min_samples_split=5, classifier__n_estimators=100; total time=   0.0s\n",
      "[CV] END classifier__learning_rate=0.1, classifier__max_depth=3, classifier__min_samples_leaf=2, classifier__min_samples_split=5, classifier__n_estimators=100; total time=   0.0s\n",
      "[CV] END classifier__learning_rate=0.1, classifier__max_depth=3, classifier__min_samples_leaf=2, classifier__min_samples_split=5, classifier__n_estimators=200; total time=   0.0s\n",
      "[CV] END classifier__learning_rate=0.1, classifier__max_depth=3, classifier__min_samples_leaf=2, classifier__min_samples_split=5, classifier__n_estimators=200; total time=   0.0s\n",
      "[CV] END classifier__learning_rate=0.1, classifier__max_depth=3, classifier__min_samples_leaf=2, classifier__min_samples_split=5, classifier__n_estimators=200; total time=   0.0s\n",
      "[CV] END classifier__learning_rate=0.1, classifier__max_depth=5, classifier__min_samples_leaf=1, classifier__min_samples_split=2, classifier__n_estimators=100; total time=   0.0s\n",
      "[CV] END classifier__learning_rate=0.1, classifier__max_depth=5, classifier__min_samples_leaf=1, classifier__min_samples_split=2, classifier__n_estimators=100; total time=   0.0s\n",
      "[CV] END classifier__learning_rate=0.1, classifier__max_depth=5, classifier__min_samples_leaf=1, classifier__min_samples_split=2, classifier__n_estimators=100; total time=   0.0s\n",
      "[CV] END classifier__learning_rate=0.1, classifier__max_depth=5, classifier__min_samples_leaf=1, classifier__min_samples_split=2, classifier__n_estimators=200; total time=   0.0s\n",
      "[CV] END classifier__learning_rate=0.1, classifier__max_depth=5, classifier__min_samples_leaf=1, classifier__min_samples_split=2, classifier__n_estimators=200; total time=   0.0s\n",
      "[CV] END classifier__learning_rate=0.1, classifier__max_depth=5, classifier__min_samples_leaf=1, classifier__min_samples_split=2, classifier__n_estimators=200; total time=   0.0s\n",
      "[CV] END classifier__learning_rate=0.1, classifier__max_depth=5, classifier__min_samples_leaf=1, classifier__min_samples_split=5, classifier__n_estimators=100; total time=   0.0s\n",
      "[CV] END classifier__learning_rate=0.1, classifier__max_depth=5, classifier__min_samples_leaf=1, classifier__min_samples_split=5, classifier__n_estimators=100; total time=   0.0s\n",
      "[CV] END classifier__learning_rate=0.1, classifier__max_depth=5, classifier__min_samples_leaf=1, classifier__min_samples_split=5, classifier__n_estimators=100; total time=   0.0s\n",
      "[CV] END classifier__learning_rate=0.1, classifier__max_depth=5, classifier__min_samples_leaf=1, classifier__min_samples_split=5, classifier__n_estimators=200; total time=   0.0s\n",
      "[CV] END classifier__learning_rate=0.1, classifier__max_depth=5, classifier__min_samples_leaf=1, classifier__min_samples_split=5, classifier__n_estimators=200; total time=   0.0s\n",
      "[CV] END classifier__learning_rate=0.1, classifier__max_depth=5, classifier__min_samples_leaf=1, classifier__min_samples_split=5, classifier__n_estimators=200; total time=   0.0s\n",
      "[CV] END classifier__learning_rate=0.1, classifier__max_depth=5, classifier__min_samples_leaf=2, classifier__min_samples_split=2, classifier__n_estimators=100; total time=   0.0s\n",
      "[CV] END classifier__learning_rate=0.1, classifier__max_depth=5, classifier__min_samples_leaf=2, classifier__min_samples_split=2, classifier__n_estimators=100; total time=   0.0s\n",
      "[CV] END classifier__learning_rate=0.1, classifier__max_depth=5, classifier__min_samples_leaf=2, classifier__min_samples_split=2, classifier__n_estimators=100; total time=   0.0s\n",
      "[CV] END classifier__learning_rate=0.1, classifier__max_depth=5, classifier__min_samples_leaf=2, classifier__min_samples_split=2, classifier__n_estimators=200; total time=   0.0s\n",
      "[CV] END classifier__learning_rate=0.1, classifier__max_depth=5, classifier__min_samples_leaf=2, classifier__min_samples_split=2, classifier__n_estimators=200; total time=   0.0s\n",
      "[CV] END classifier__learning_rate=0.1, classifier__max_depth=5, classifier__min_samples_leaf=2, classifier__min_samples_split=2, classifier__n_estimators=200; total time=   0.0s\n",
      "[CV] END classifier__learning_rate=0.1, classifier__max_depth=5, classifier__min_samples_leaf=2, classifier__min_samples_split=5, classifier__n_estimators=100; total time=   0.0s\n",
      "[CV] END classifier__learning_rate=0.1, classifier__max_depth=5, classifier__min_samples_leaf=2, classifier__min_samples_split=5, classifier__n_estimators=100; total time=   0.0s\n",
      "[CV] END classifier__learning_rate=0.1, classifier__max_depth=5, classifier__min_samples_leaf=2, classifier__min_samples_split=5, classifier__n_estimators=100; total time=   0.0s\n",
      "[CV] END classifier__learning_rate=0.1, classifier__max_depth=5, classifier__min_samples_leaf=2, classifier__min_samples_split=5, classifier__n_estimators=200; total time=   0.0s\n",
      "[CV] END classifier__learning_rate=0.1, classifier__max_depth=5, classifier__min_samples_leaf=2, classifier__min_samples_split=5, classifier__n_estimators=200; total time=   0.0s\n",
      "[CV] END classifier__learning_rate=0.1, classifier__max_depth=5, classifier__min_samples_leaf=2, classifier__min_samples_split=5, classifier__n_estimators=200; total time=   0.0s\n",
      "[CV] END classifier__learning_rate=0.1, classifier__max_depth=7, classifier__min_samples_leaf=1, classifier__min_samples_split=2, classifier__n_estimators=100; total time=   0.0s\n",
      "[CV] END classifier__learning_rate=0.1, classifier__max_depth=7, classifier__min_samples_leaf=1, classifier__min_samples_split=2, classifier__n_estimators=100; total time=   0.0s\n",
      "[CV] END classifier__learning_rate=0.1, classifier__max_depth=7, classifier__min_samples_leaf=1, classifier__min_samples_split=2, classifier__n_estimators=100; total time=   0.0s\n",
      "[CV] END classifier__learning_rate=0.1, classifier__max_depth=7, classifier__min_samples_leaf=1, classifier__min_samples_split=2, classifier__n_estimators=200; total time=   0.0s\n",
      "[CV] END classifier__learning_rate=0.1, classifier__max_depth=7, classifier__min_samples_leaf=1, classifier__min_samples_split=2, classifier__n_estimators=200; total time=   0.0s\n",
      "[CV] END classifier__learning_rate=0.1, classifier__max_depth=7, classifier__min_samples_leaf=1, classifier__min_samples_split=2, classifier__n_estimators=200; total time=   0.0s\n",
      "[CV] END classifier__learning_rate=0.1, classifier__max_depth=7, classifier__min_samples_leaf=1, classifier__min_samples_split=5, classifier__n_estimators=100; total time=   0.0s\n",
      "[CV] END classifier__learning_rate=0.1, classifier__max_depth=7, classifier__min_samples_leaf=1, classifier__min_samples_split=5, classifier__n_estimators=100; total time=   0.0s\n",
      "[CV] END classifier__learning_rate=0.1, classifier__max_depth=7, classifier__min_samples_leaf=1, classifier__min_samples_split=5, classifier__n_estimators=100; total time=   0.0s\n",
      "[CV] END classifier__learning_rate=0.1, classifier__max_depth=7, classifier__min_samples_leaf=1, classifier__min_samples_split=5, classifier__n_estimators=200; total time=   0.0s\n",
      "[CV] END classifier__learning_rate=0.1, classifier__max_depth=7, classifier__min_samples_leaf=1, classifier__min_samples_split=5, classifier__n_estimators=200; total time=   0.0s\n",
      "[CV] END classifier__learning_rate=0.1, classifier__max_depth=7, classifier__min_samples_leaf=1, classifier__min_samples_split=5, classifier__n_estimators=200; total time=   0.0s\n",
      "[CV] END classifier__learning_rate=0.1, classifier__max_depth=7, classifier__min_samples_leaf=2, classifier__min_samples_split=2, classifier__n_estimators=100; total time=   0.0s\n",
      "[CV] END classifier__learning_rate=0.1, classifier__max_depth=7, classifier__min_samples_leaf=2, classifier__min_samples_split=2, classifier__n_estimators=100; total time=   0.0s\n",
      "[CV] END classifier__learning_rate=0.1, classifier__max_depth=7, classifier__min_samples_leaf=2, classifier__min_samples_split=2, classifier__n_estimators=100; total time=   0.0s\n",
      "[CV] END classifier__learning_rate=0.1, classifier__max_depth=7, classifier__min_samples_leaf=2, classifier__min_samples_split=2, classifier__n_estimators=200; total time=   0.0s\n",
      "[CV] END classifier__learning_rate=0.1, classifier__max_depth=7, classifier__min_samples_leaf=2, classifier__min_samples_split=2, classifier__n_estimators=200; total time=   0.0s\n",
      "[CV] END classifier__learning_rate=0.1, classifier__max_depth=7, classifier__min_samples_leaf=2, classifier__min_samples_split=2, classifier__n_estimators=200; total time=   0.0s\n",
      "[CV] END classifier__learning_rate=0.1, classifier__max_depth=7, classifier__min_samples_leaf=2, classifier__min_samples_split=5, classifier__n_estimators=100; total time=   0.0s\n",
      "[CV] END classifier__learning_rate=0.1, classifier__max_depth=7, classifier__min_samples_leaf=2, classifier__min_samples_split=5, classifier__n_estimators=100; total time=   0.0s\n",
      "[CV] END classifier__learning_rate=0.1, classifier__max_depth=7, classifier__min_samples_leaf=2, classifier__min_samples_split=5, classifier__n_estimators=100; total time=   0.0s\n",
      "[CV] END classifier__learning_rate=0.1, classifier__max_depth=7, classifier__min_samples_leaf=2, classifier__min_samples_split=5, classifier__n_estimators=200; total time=   0.0s\n",
      "[CV] END classifier__learning_rate=0.1, classifier__max_depth=7, classifier__min_samples_leaf=2, classifier__min_samples_split=5, classifier__n_estimators=200; total time=   0.0s\n",
      "[CV] END classifier__learning_rate=0.1, classifier__max_depth=7, classifier__min_samples_leaf=2, classifier__min_samples_split=5, classifier__n_estimators=200; total time=   0.0s\n",
      "[CV] END classifier__learning_rate=0.2, classifier__max_depth=3, classifier__min_samples_leaf=1, classifier__min_samples_split=2, classifier__n_estimators=100; total time=   0.0s\n",
      "[CV] END classifier__learning_rate=0.2, classifier__max_depth=3, classifier__min_samples_leaf=1, classifier__min_samples_split=2, classifier__n_estimators=100; total time=   0.0s\n",
      "[CV] END classifier__learning_rate=0.2, classifier__max_depth=3, classifier__min_samples_leaf=1, classifier__min_samples_split=2, classifier__n_estimators=100; total time=   0.0s\n",
      "[CV] END classifier__learning_rate=0.2, classifier__max_depth=3, classifier__min_samples_leaf=1, classifier__min_samples_split=2, classifier__n_estimators=200; total time=   0.0s\n",
      "[CV] END classifier__learning_rate=0.2, classifier__max_depth=3, classifier__min_samples_leaf=1, classifier__min_samples_split=2, classifier__n_estimators=200; total time=   0.0s\n",
      "[CV] END classifier__learning_rate=0.2, classifier__max_depth=3, classifier__min_samples_leaf=1, classifier__min_samples_split=2, classifier__n_estimators=200; total time=   0.0s\n",
      "[CV] END classifier__learning_rate=0.2, classifier__max_depth=3, classifier__min_samples_leaf=1, classifier__min_samples_split=5, classifier__n_estimators=100; total time=   0.0s\n",
      "[CV] END classifier__learning_rate=0.2, classifier__max_depth=3, classifier__min_samples_leaf=1, classifier__min_samples_split=5, classifier__n_estimators=100; total time=   0.0s\n",
      "[CV] END classifier__learning_rate=0.2, classifier__max_depth=3, classifier__min_samples_leaf=1, classifier__min_samples_split=5, classifier__n_estimators=100; total time=   0.0s\n",
      "[CV] END classifier__learning_rate=0.2, classifier__max_depth=3, classifier__min_samples_leaf=1, classifier__min_samples_split=5, classifier__n_estimators=200; total time=   0.0s\n",
      "[CV] END classifier__learning_rate=0.2, classifier__max_depth=3, classifier__min_samples_leaf=1, classifier__min_samples_split=5, classifier__n_estimators=200; total time=   0.0s\n",
      "[CV] END classifier__learning_rate=0.2, classifier__max_depth=3, classifier__min_samples_leaf=1, classifier__min_samples_split=5, classifier__n_estimators=200; total time=   0.0s\n",
      "[CV] END classifier__learning_rate=0.2, classifier__max_depth=3, classifier__min_samples_leaf=2, classifier__min_samples_split=2, classifier__n_estimators=100; total time=   0.0s\n",
      "[CV] END classifier__learning_rate=0.2, classifier__max_depth=3, classifier__min_samples_leaf=2, classifier__min_samples_split=2, classifier__n_estimators=100; total time=   0.0s\n",
      "[CV] END classifier__learning_rate=0.2, classifier__max_depth=3, classifier__min_samples_leaf=2, classifier__min_samples_split=2, classifier__n_estimators=100; total time=   0.0s\n",
      "[CV] END classifier__learning_rate=0.2, classifier__max_depth=3, classifier__min_samples_leaf=2, classifier__min_samples_split=2, classifier__n_estimators=200; total time=   0.0s\n",
      "[CV] END classifier__learning_rate=0.2, classifier__max_depth=3, classifier__min_samples_leaf=2, classifier__min_samples_split=2, classifier__n_estimators=200; total time=   0.0s\n",
      "[CV] END classifier__learning_rate=0.2, classifier__max_depth=3, classifier__min_samples_leaf=2, classifier__min_samples_split=2, classifier__n_estimators=200; total time=   0.0s\n",
      "[CV] END classifier__learning_rate=0.2, classifier__max_depth=3, classifier__min_samples_leaf=2, classifier__min_samples_split=5, classifier__n_estimators=100; total time=   0.0s\n",
      "[CV] END classifier__learning_rate=0.2, classifier__max_depth=3, classifier__min_samples_leaf=2, classifier__min_samples_split=5, classifier__n_estimators=100; total time=   0.0s\n",
      "[CV] END classifier__learning_rate=0.2, classifier__max_depth=3, classifier__min_samples_leaf=2, classifier__min_samples_split=5, classifier__n_estimators=100; total time=   0.0s\n",
      "[CV] END classifier__learning_rate=0.2, classifier__max_depth=3, classifier__min_samples_leaf=2, classifier__min_samples_split=5, classifier__n_estimators=200; total time=   0.0s\n",
      "[CV] END classifier__learning_rate=0.2, classifier__max_depth=3, classifier__min_samples_leaf=2, classifier__min_samples_split=5, classifier__n_estimators=200; total time=   0.0s\n",
      "[CV] END classifier__learning_rate=0.2, classifier__max_depth=3, classifier__min_samples_leaf=2, classifier__min_samples_split=5, classifier__n_estimators=200; total time=   0.0s\n",
      "[CV] END classifier__learning_rate=0.2, classifier__max_depth=5, classifier__min_samples_leaf=1, classifier__min_samples_split=2, classifier__n_estimators=100; total time=   0.0s\n",
      "[CV] END classifier__learning_rate=0.2, classifier__max_depth=5, classifier__min_samples_leaf=1, classifier__min_samples_split=2, classifier__n_estimators=100; total time=   0.0s\n",
      "[CV] END classifier__learning_rate=0.2, classifier__max_depth=5, classifier__min_samples_leaf=1, classifier__min_samples_split=2, classifier__n_estimators=100; total time=   0.0s\n",
      "[CV] END classifier__learning_rate=0.2, classifier__max_depth=5, classifier__min_samples_leaf=1, classifier__min_samples_split=2, classifier__n_estimators=200; total time=   0.0s\n",
      "[CV] END classifier__learning_rate=0.2, classifier__max_depth=5, classifier__min_samples_leaf=1, classifier__min_samples_split=2, classifier__n_estimators=200; total time=   0.0s\n",
      "[CV] END classifier__learning_rate=0.2, classifier__max_depth=5, classifier__min_samples_leaf=1, classifier__min_samples_split=2, classifier__n_estimators=200; total time=   0.0s\n",
      "[CV] END classifier__learning_rate=0.2, classifier__max_depth=5, classifier__min_samples_leaf=1, classifier__min_samples_split=5, classifier__n_estimators=100; total time=   0.0s\n",
      "[CV] END classifier__learning_rate=0.2, classifier__max_depth=5, classifier__min_samples_leaf=1, classifier__min_samples_split=5, classifier__n_estimators=100; total time=   0.0s\n",
      "[CV] END classifier__learning_rate=0.2, classifier__max_depth=5, classifier__min_samples_leaf=1, classifier__min_samples_split=5, classifier__n_estimators=100; total time=   0.0s\n",
      "[CV] END classifier__learning_rate=0.2, classifier__max_depth=5, classifier__min_samples_leaf=1, classifier__min_samples_split=5, classifier__n_estimators=200; total time=   0.0s\n",
      "[CV] END classifier__learning_rate=0.2, classifier__max_depth=5, classifier__min_samples_leaf=1, classifier__min_samples_split=5, classifier__n_estimators=200; total time=   0.0s\n",
      "[CV] END classifier__learning_rate=0.2, classifier__max_depth=5, classifier__min_samples_leaf=1, classifier__min_samples_split=5, classifier__n_estimators=200; total time=   0.0s\n",
      "[CV] END classifier__learning_rate=0.2, classifier__max_depth=5, classifier__min_samples_leaf=2, classifier__min_samples_split=2, classifier__n_estimators=100; total time=   0.0s\n",
      "[CV] END classifier__learning_rate=0.2, classifier__max_depth=5, classifier__min_samples_leaf=2, classifier__min_samples_split=2, classifier__n_estimators=100; total time=   0.0s\n",
      "[CV] END classifier__learning_rate=0.2, classifier__max_depth=5, classifier__min_samples_leaf=2, classifier__min_samples_split=2, classifier__n_estimators=100; total time=   0.0s\n",
      "[CV] END classifier__learning_rate=0.2, classifier__max_depth=5, classifier__min_samples_leaf=2, classifier__min_samples_split=2, classifier__n_estimators=200; total time=   0.0s\n",
      "[CV] END classifier__learning_rate=0.2, classifier__max_depth=5, classifier__min_samples_leaf=2, classifier__min_samples_split=2, classifier__n_estimators=200; total time=   0.0s\n",
      "[CV] END classifier__learning_rate=0.2, classifier__max_depth=5, classifier__min_samples_leaf=2, classifier__min_samples_split=2, classifier__n_estimators=200; total time=   0.0s\n",
      "[CV] END classifier__learning_rate=0.2, classifier__max_depth=5, classifier__min_samples_leaf=2, classifier__min_samples_split=5, classifier__n_estimators=100; total time=   0.0s\n",
      "[CV] END classifier__learning_rate=0.2, classifier__max_depth=5, classifier__min_samples_leaf=2, classifier__min_samples_split=5, classifier__n_estimators=100; total time=   0.0s\n",
      "[CV] END classifier__learning_rate=0.2, classifier__max_depth=5, classifier__min_samples_leaf=2, classifier__min_samples_split=5, classifier__n_estimators=100; total time=   0.0s\n",
      "[CV] END classifier__learning_rate=0.2, classifier__max_depth=5, classifier__min_samples_leaf=2, classifier__min_samples_split=5, classifier__n_estimators=200; total time=   0.0s\n",
      "[CV] END classifier__learning_rate=0.2, classifier__max_depth=5, classifier__min_samples_leaf=2, classifier__min_samples_split=5, classifier__n_estimators=200; total time=   0.0s\n",
      "[CV] END classifier__learning_rate=0.2, classifier__max_depth=5, classifier__min_samples_leaf=2, classifier__min_samples_split=5, classifier__n_estimators=200; total time=   0.0s\n",
      "[CV] END classifier__learning_rate=0.2, classifier__max_depth=7, classifier__min_samples_leaf=1, classifier__min_samples_split=2, classifier__n_estimators=100; total time=   0.0s\n",
      "[CV] END classifier__learning_rate=0.2, classifier__max_depth=7, classifier__min_samples_leaf=1, classifier__min_samples_split=2, classifier__n_estimators=100; total time=   0.0s\n",
      "[CV] END classifier__learning_rate=0.2, classifier__max_depth=7, classifier__min_samples_leaf=1, classifier__min_samples_split=2, classifier__n_estimators=100; total time=   0.0s\n",
      "[CV] END classifier__learning_rate=0.2, classifier__max_depth=7, classifier__min_samples_leaf=1, classifier__min_samples_split=2, classifier__n_estimators=200; total time=   0.0s\n",
      "[CV] END classifier__learning_rate=0.2, classifier__max_depth=7, classifier__min_samples_leaf=1, classifier__min_samples_split=2, classifier__n_estimators=200; total time=   0.0s\n",
      "[CV] END classifier__learning_rate=0.2, classifier__max_depth=7, classifier__min_samples_leaf=1, classifier__min_samples_split=2, classifier__n_estimators=200; total time=   0.0s\n",
      "[CV] END classifier__learning_rate=0.2, classifier__max_depth=7, classifier__min_samples_leaf=1, classifier__min_samples_split=5, classifier__n_estimators=100; total time=   0.0s\n",
      "[CV] END classifier__learning_rate=0.2, classifier__max_depth=7, classifier__min_samples_leaf=1, classifier__min_samples_split=5, classifier__n_estimators=100; total time=   0.0s\n",
      "[CV] END classifier__learning_rate=0.2, classifier__max_depth=7, classifier__min_samples_leaf=1, classifier__min_samples_split=5, classifier__n_estimators=100; total time=   0.0s\n",
      "[CV] END classifier__learning_rate=0.2, classifier__max_depth=7, classifier__min_samples_leaf=1, classifier__min_samples_split=5, classifier__n_estimators=200; total time=   0.0s\n",
      "[CV] END classifier__learning_rate=0.2, classifier__max_depth=7, classifier__min_samples_leaf=1, classifier__min_samples_split=5, classifier__n_estimators=200; total time=   0.0s\n",
      "[CV] END classifier__learning_rate=0.2, classifier__max_depth=7, classifier__min_samples_leaf=1, classifier__min_samples_split=5, classifier__n_estimators=200; total time=   0.0s\n",
      "[CV] END classifier__learning_rate=0.2, classifier__max_depth=7, classifier__min_samples_leaf=2, classifier__min_samples_split=2, classifier__n_estimators=100; total time=   0.0s\n",
      "[CV] END classifier__learning_rate=0.2, classifier__max_depth=7, classifier__min_samples_leaf=2, classifier__min_samples_split=2, classifier__n_estimators=100; total time=   0.0s\n",
      "[CV] END classifier__learning_rate=0.2, classifier__max_depth=7, classifier__min_samples_leaf=2, classifier__min_samples_split=2, classifier__n_estimators=100; total time=   0.0s\n",
      "[CV] END classifier__learning_rate=0.2, classifier__max_depth=7, classifier__min_samples_leaf=2, classifier__min_samples_split=2, classifier__n_estimators=200; total time=   0.0s\n",
      "[CV] END classifier__learning_rate=0.2, classifier__max_depth=7, classifier__min_samples_leaf=2, classifier__min_samples_split=2, classifier__n_estimators=200; total time=   0.0s\n",
      "[CV] END classifier__learning_rate=0.2, classifier__max_depth=7, classifier__min_samples_leaf=2, classifier__min_samples_split=2, classifier__n_estimators=200; total time=   0.0s\n",
      "[CV] END classifier__learning_rate=0.2, classifier__max_depth=7, classifier__min_samples_leaf=2, classifier__min_samples_split=5, classifier__n_estimators=100; total time=   0.0s\n",
      "[CV] END classifier__learning_rate=0.2, classifier__max_depth=7, classifier__min_samples_leaf=2, classifier__min_samples_split=5, classifier__n_estimators=100; total time=   0.0s\n",
      "[CV] END classifier__learning_rate=0.2, classifier__max_depth=7, classifier__min_samples_leaf=2, classifier__min_samples_split=5, classifier__n_estimators=100; total time=   0.0s\n",
      "[CV] END classifier__learning_rate=0.2, classifier__max_depth=7, classifier__min_samples_leaf=2, classifier__min_samples_split=5, classifier__n_estimators=200; total time=   0.0s\n",
      "[CV] END classifier__learning_rate=0.2, classifier__max_depth=7, classifier__min_samples_leaf=2, classifier__min_samples_split=5, classifier__n_estimators=200; total time=   0.0s\n",
      "[CV] END classifier__learning_rate=0.2, classifier__max_depth=7, classifier__min_samples_leaf=2, classifier__min_samples_split=5, classifier__n_estimators=200; total time=   0.0s\n",
      "Error during GridSearchCV fitting: \n",
      "All the 216 fits failed.\n",
      "It is very likely that your model is misconfigured.\n",
      "You can try to debug the error by setting error_score='raise'.\n",
      "\n",
      "Below are more details about the failures:\n",
      "--------------------------------------------------------------------------------\n",
      "216 fits failed with the following error:\n",
      "Traceback (most recent call last):\n",
      "  File \"c:\\Python312\\Lib\\site-packages\\sklearn\\model_selection\\_validation.py\", line 888, in _fit_and_score\n",
      "    estimator.fit(X_train, y_train, **fit_params)\n",
      "  File \"c:\\Python312\\Lib\\site-packages\\sklearn\\base.py\", line 1473, in wrapper\n",
      "    return fit_method(estimator, *args, **kwargs)\n",
      "           ^^^^^^^^^^^^^^^^^^^^^^^^^^^^^^^^^^^^^^\n",
      "  File \"c:\\Python312\\Lib\\site-packages\\sklearn\\pipeline.py\", line 469, in fit\n",
      "    Xt = self._fit(X, y, routed_params)\n",
      "         ^^^^^^^^^^^^^^^^^^^^^^^^^^^^^^\n",
      "  File \"c:\\Python312\\Lib\\site-packages\\sklearn\\pipeline.py\", line 386, in _fit\n",
      "    self._validate_steps()\n",
      "  File \"c:\\Python312\\Lib\\site-packages\\sklearn\\pipeline.py\", line 256, in _validate_steps\n",
      "    raise TypeError(\n",
      "TypeError: All intermediate steps should be transformers and implement fit and transform or be the string 'passthrough' 'SMOTE(random_state=42)' (type <class 'imblearn.over_sampling._smote.base.SMOTE'>) doesn't\n",
      "\n"
     ]
    }
   ],
   "source": [
    "param_grid = {\n",
    "    'classifier__n_estimators': [100, 200],\n",
    "    'classifier__learning_rate': [0.01, 0.1, 0.2],\n",
    "    'classifier__max_depth': [3, 5, 7],\n",
    "    'classifier__min_samples_split': [2, 5],\n",
    "    'classifier__min_samples_leaf': [1, 2]\n",
    "}\n",
    "\n",
    "try:\n",
    "    grid_search = GridSearchCV(pipeline, param_grid, cv=3, scoring='accuracy', refit=True, verbose=2)\n",
    "    grid_search.fit(X_train, y_train)\n",
    "    print(\"Grid search completed successfully.\")\n",
    "except Exception as e:\n",
    "    print(\"Error during GridSearchCV fitting:\", e)"
   ]
  },
  {
   "cell_type": "code",
   "execution_count": 122,
   "metadata": {},
   "outputs": [],
   "source": [
    "if hasattr(grid_search, 'best_estimator_'):\n",
    "    best_model = grid_search.best_estimator_\n",
    "    print(\"Best model found.\")"
   ]
  },
  {
   "cell_type": "code",
   "execution_count": 123,
   "metadata": {},
   "outputs": [
    {
     "name": "stdout",
     "output_type": "stream",
     "text": [
      "Error during prediction: could not convert string to float: 'Mars'\n"
     ]
    },
    {
     "name": "stderr",
     "output_type": "stream",
     "text": [
      "c:\\Python312\\Lib\\site-packages\\sklearn\\base.py:486: UserWarning: X has feature names, but RandomForestClassifier was fitted without feature names\n",
      "  warnings.warn(\n"
     ]
    }
   ],
   "source": [
    "try:\n",
    "    y_val_pred = best_model.predict(X_val)\n",
    "    print(\"Validation Accuracy:\", accuracy_score(y_val, y_val_pred))\n",
    "    print(classification_report(y_val, y_val_pred))\n",
    "except ValueError as e:\n",
    "    print(\"Error during prediction:\", e)"
   ]
  },
  {
   "cell_type": "code",
   "execution_count": 124,
   "metadata": {},
   "outputs": [
    {
     "name": "stderr",
     "output_type": "stream",
     "text": [
      "C:\\Users\\Dambe\\AppData\\Local\\Temp\\ipykernel_9524\\3367901369.py:1: FutureWarning: A value is trying to be set on a copy of a DataFrame or Series through chained assignment using an inplace method.\n",
      "The behavior will change in pandas 3.0. This inplace method will never work because the intermediate object on which we are setting values always behaves as a copy.\n",
      "\n",
      "For example, when doing 'df[col].method(value, inplace=True)', try using 'df.method({col: value}, inplace=True)' or df[col] = df[col].method(value) instead, to perform the operation inplace on the original object.\n",
      "\n",
      "\n",
      "  test_data['HomePlanet'].fillna('Unknown', inplace=True)\n",
      "C:\\Users\\Dambe\\AppData\\Local\\Temp\\ipykernel_9524\\3367901369.py:2: FutureWarning: A value is trying to be set on a copy of a DataFrame or Series through chained assignment using an inplace method.\n",
      "The behavior will change in pandas 3.0. This inplace method will never work because the intermediate object on which we are setting values always behaves as a copy.\n",
      "\n",
      "For example, when doing 'df[col].method(value, inplace=True)', try using 'df.method({col: value}, inplace=True)' or df[col] = df[col].method(value) instead, to perform the operation inplace on the original object.\n",
      "\n",
      "\n",
      "  test_data['CryoSleep'].fillna(False, inplace=True)\n",
      "C:\\Users\\Dambe\\AppData\\Local\\Temp\\ipykernel_9524\\3367901369.py:2: FutureWarning: Downcasting object dtype arrays on .fillna, .ffill, .bfill is deprecated and will change in a future version. Call result.infer_objects(copy=False) instead. To opt-in to the future behavior, set `pd.set_option('future.no_silent_downcasting', True)`\n",
      "  test_data['CryoSleep'].fillna(False, inplace=True)\n",
      "C:\\Users\\Dambe\\AppData\\Local\\Temp\\ipykernel_9524\\3367901369.py:3: FutureWarning: A value is trying to be set on a copy of a DataFrame or Series through chained assignment using an inplace method.\n",
      "The behavior will change in pandas 3.0. This inplace method will never work because the intermediate object on which we are setting values always behaves as a copy.\n",
      "\n",
      "For example, when doing 'df[col].method(value, inplace=True)', try using 'df.method({col: value}, inplace=True)' or df[col] = df[col].method(value) instead, to perform the operation inplace on the original object.\n",
      "\n",
      "\n",
      "  test_data['Destination'].fillna('Unknown', inplace=True)\n",
      "C:\\Users\\Dambe\\AppData\\Local\\Temp\\ipykernel_9524\\3367901369.py:4: FutureWarning: A value is trying to be set on a copy of a DataFrame or Series through chained assignment using an inplace method.\n",
      "The behavior will change in pandas 3.0. This inplace method will never work because the intermediate object on which we are setting values always behaves as a copy.\n",
      "\n",
      "For example, when doing 'df[col].method(value, inplace=True)', try using 'df.method({col: value}, inplace=True)' or df[col] = df[col].method(value) instead, to perform the operation inplace on the original object.\n",
      "\n",
      "\n",
      "  test_data['Age'].fillna(test_data['Age'].median(), inplace=True)\n",
      "C:\\Users\\Dambe\\AppData\\Local\\Temp\\ipykernel_9524\\3367901369.py:5: FutureWarning: A value is trying to be set on a copy of a DataFrame or Series through chained assignment using an inplace method.\n",
      "The behavior will change in pandas 3.0. This inplace method will never work because the intermediate object on which we are setting values always behaves as a copy.\n",
      "\n",
      "For example, when doing 'df[col].method(value, inplace=True)', try using 'df.method({col: value}, inplace=True)' or df[col] = df[col].method(value) instead, to perform the operation inplace on the original object.\n",
      "\n",
      "\n",
      "  test_data['VIP'].fillna(False, inplace=True)\n",
      "C:\\Users\\Dambe\\AppData\\Local\\Temp\\ipykernel_9524\\3367901369.py:5: FutureWarning: Downcasting object dtype arrays on .fillna, .ffill, .bfill is deprecated and will change in a future version. Call result.infer_objects(copy=False) instead. To opt-in to the future behavior, set `pd.set_option('future.no_silent_downcasting', True)`\n",
      "  test_data['VIP'].fillna(False, inplace=True)\n"
     ]
    }
   ],
   "source": [
    "test_data['HomePlanet'].fillna('Unknown', inplace=True)\n",
    "test_data['CryoSleep'].fillna(False, inplace=True)\n",
    "test_data['Destination'].fillna('Unknown', inplace=True)\n",
    "test_data['Age'].fillna(test_data['Age'].median(), inplace=True)\n",
    "test_data['VIP'].fillna(False, inplace=True)"
   ]
  },
  {
   "cell_type": "code",
   "execution_count": 125,
   "metadata": {},
   "outputs": [],
   "source": [
    "X_test = test_data.drop(columns=['PassengerId', 'Name', 'Cabin'])\n",
    "X_test = X_test.reindex(columns=X.columns, fill_value=0)"
   ]
  },
  {
   "cell_type": "code",
   "execution_count": 126,
   "metadata": {},
   "outputs": [
    {
     "name": "stdout",
     "output_type": "stream",
     "text": [
      "Error during test prediction: could not convert string to float: 'Earth'\n"
     ]
    },
    {
     "name": "stderr",
     "output_type": "stream",
     "text": [
      "c:\\Python312\\Lib\\site-packages\\sklearn\\base.py:486: UserWarning: X has feature names, but RandomForestClassifier was fitted without feature names\n",
      "  warnings.warn(\n"
     ]
    }
   ],
   "source": [
    "try:\n",
    "    test_predictions = best_model.predict(X_test)\n",
    "    print(\"Test predictions made successfully.\")\n",
    "except ValueError as e:\n",
    "    print(\"Error during test prediction:\", e)"
   ]
  },
  {
   "cell_type": "code",
   "execution_count": 127,
   "metadata": {},
   "outputs": [],
   "source": [
    "submission = pd.DataFrame({\n",
    "    'PassengerId': test_data['PassengerId'],\n",
    "    'Transported': test_predictions\n",
    "})"
   ]
  },
  {
   "cell_type": "code",
   "execution_count": 128,
   "metadata": {},
   "outputs": [
    {
     "name": "stdout",
     "output_type": "stream",
     "text": [
      "Submission file created successfully!\n"
     ]
    }
   ],
   "source": [
    "submission.to_csv('submission.csv', index=False)\n",
    "\n",
    "print(\"Submission file created successfully!\")"
   ]
  }
 ],
 "metadata": {
  "kernelspec": {
   "display_name": "Python 3",
   "language": "python",
   "name": "python3"
  },
  "language_info": {
   "codemirror_mode": {
    "name": "ipython",
    "version": 3
   },
   "file_extension": ".py",
   "mimetype": "text/x-python",
   "name": "python",
   "nbconvert_exporter": "python",
   "pygments_lexer": "ipython3",
   "version": "3.12.2"
  }
 },
 "nbformat": 4,
 "nbformat_minor": 2
}
